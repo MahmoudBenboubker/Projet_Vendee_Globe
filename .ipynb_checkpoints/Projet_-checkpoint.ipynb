{
 "cells": [
  {
   "cell_type": "markdown",
   "metadata": {},
   "source": [
    "# Projet Vendée Globe par Mahmoud Benboubker - MS BGD"
   ]
  },
  {
   "cell_type": "code",
   "execution_count": 1,
   "metadata": {},
   "outputs": [],
   "source": [
    "import pandas as pd\n",
    "import numpy as np\n",
    "\n",
    "import requests\n",
    "from bs4 import BeautifulSoup\n",
    "\n",
    "import os\n",
    "import datetime\n",
    "\n",
    "import matplotlib.pyplot as plt\n",
    "import seaborn as sns\n",
    "\n",
    "from sklearn.model_selection import train_test_split\n",
    "from sklearn.linear_model import LinearRegression"
   ]
  },
  {
   "cell_type": "code",
   "execution_count": 2,
   "metadata": {},
   "outputs": [],
   "source": [
    "### Récupération des fichiers Excel avec les classements."
   ]
  },
  {
   "cell_type": "code",
   "execution_count": 3,
   "metadata": {},
   "outputs": [],
   "source": [
    "def get_last_classement():\n",
    "    website = 'https://www.vendeeglobe.org'\n",
    "    req = requests.get(website + '/fr/classement')\n",
    "    soup = BeautifulSoup(req.content)\n",
    "    link_ref = soup.find('a', {\"class\": \"rankings__download\"})\n",
    "    link_ref = link_ref.attrs[\"href\"]\n",
    "    link = website + link_ref\n",
    "    filename = link.split('/')[-1]\n",
    "    r = requests.get(link, allow_redirects=True)\n",
    "    open(\"./data/classements/\"+filename, 'wb').write(r.content)\n",
    "    return pd.read_excel(\"./data/classements/\"+filename)"
   ]
  },
  {
   "cell_type": "code",
   "execution_count": 6,
   "metadata": {},
   "outputs": [],
   "source": [
    "def download_classement_historique(heure_date):\n",
    "    print(heure_date)\n",
    "    website = 'https://www.vendeeglobe.org'\n",
    "    req = requests.get(website + '/fr/classement/'+heure_date)\n",
    "    soup = BeautifulSoup(req.content)\n",
    "    link_ref = soup.find('a', {\"class\": \"rankings__download\"})\n",
    "    if link_ref: ## pour eviter les erreurs si certaines pages n'ont pas de fichiers excel\n",
    "        link_ref = link_ref.attrs[\"href\"]\n",
    "        link = website + link_ref\n",
    "        filename = link.split('/')[-1]\n",
    "        r = requests.get(link, allow_redirects=True)\n",
    "        open(\"./data/classements/\"+filename, 'wb').write(r.content)"
   ]
  },
  {
   "cell_type": "code",
   "execution_count": 5,
   "metadata": {},
   "outputs": [],
   "source": [
    "def get_rankings_archives() :\n",
    "    website = 'https://www.vendeeglobe.org'\n",
    "    req = requests.get(website + '/fr/classement')\n",
    "    soup = BeautifulSoup(req.content)\n",
    "    combobox_ref = soup.find('select', {\"class\": \"form__input m--select onsubmit-rank\"})\n",
    "    historique_list = combobox_ref.find_all('option')\n",
    "    historique_list.pop(0)\n",
    "    historique_date_heure = [tag.attrs['value'] for tag in historique_list]\n",
    "    for elt in historique_date_heure:\n",
    "        download_classement_historique(elt)"
   ]
  },
  {
   "cell_type": "code",
   "execution_count": 21,
   "metadata": {},
   "outputs": [],
   "source": [
    "def clean_ranking(filename):\n",
    "    columns = ['Rank', 'Nat', 'Skipper', 'Lat', 'Long', 'Cap', 'Vitesse (kts)','VMG', 'Dist_arrivée (nm)', 'DTF', 'DTL']\n",
    "    df_classement = pd.read_excel(\"./data/classements/\"+filename, skiprows=range(4), usecols=[1, 2, 3, 5, 6, 7, 8, 9, 10, 19, 20], encoding='utf-8', names=columns)\n",
    "    df_classement[\"Skipper\"] = df_classement[\"Skipper\"].apply(lambda x : str(x).split(\"\\n\")[0])\n",
    "    df_classement.drop(index=range(33, 37), inplace=True)\n",
    "    df_classement[\"Nat\"] = df_classement[\"Nat\"].apply(lambda x : str(x).split(\"\\n\")[1])\n",
    "    update_time = filename.split('e_')[1][:-5]\n",
    "    var = datetime.datetime.strptime(str(update_time), '%Y%m%d_%H%M%S').strftime('%H:%M:%S %d/%m/%Y')\n",
    "    df_classement[\"Update Time\"] = var\n",
    "    df_classement =  df_classement[~df_classement.Rank.isin([\"RET\",\"NL\"])]\n",
    "    df_classement[\"Rank\"] = df_classement[\"Rank\"].apply(lambda x : int(x))\n",
    "    df_classement[\"Vitesse (kts)\"] = df_classement[\"Vitesse (kts)\"].apply(lambda x : float(x.split(' ')[0]))\n",
    "    return df_classement"
   ]
  },
  {
   "cell_type": "code",
   "execution_count": 12,
   "metadata": {},
   "outputs": [],
   "source": [
    "def get_all_rankings():\n",
    "    classements = os.listdir('./data/classements')\n",
    "    classements_listes = []\n",
    "    for cls in classements:\n",
    "        classements_listes.append(clean_bateau(cls))\n",
    "    df = pd.concat(classements_listes)\n",
    "    df.to_csv('all_rankings.csv')\n",
    "    return df"
   ]
  },
  {
   "cell_type": "code",
   "execution_count": 11,
   "metadata": {},
   "outputs": [],
   "source": [
    "### Extraction des fiches techniques pour chacun des voiliers."
   ]
  },
  {
   "cell_type": "code",
   "execution_count": 10,
   "metadata": {},
   "outputs": [],
   "source": [
    "def get_bateau_infos() : \n",
    "    website = 'https://www.vendeeglobe.org/fr/glossaire'\n",
    "    req = requests.get(website)\n",
    "    soup = BeautifulSoup(req.content.decode('utf-8'))\n",
    "    bateaux = []\n",
    "    for elt in soup.find('section', {\"class\": \"boats-list\"}).find_all(\"div\", {\"class\" : \"boats-list__popup-infos\"}) :\n",
    "        bateau = {}\n",
    "        bateau[\"Nom bateau\"] = elt.find(\"h3\", {\"class\": \"boats-list__popup-title\" }).text\n",
    "        for i in elt.find_all('li') :\n",
    "            key = i.text.split(' : ')[0]\n",
    "            value = i.text.split(' : ')[1]\n",
    "            bateau[key] = value\n",
    "        bateaux.append(bateau)\n",
    "    skippers = [ x.text for x in soup.find_all(\"span\", {\"class\" : \"boats-list__skipper-name\"}, text= True)]\n",
    "    for i in range(len(skippers)):\n",
    "        bateaux[i][\"Skipper\"] = skippers.pop(0)\n",
    "    df = pd.DataFrame(bateaux)\n",
    "    df.to_csv(\"./data/bateaux/bateaux_info.csv\")\n",
    "    df = df.replace('Sam Davies', 'Samantha Davies')\n",
    "    df = df.replace('foiler','foils')\n",
    "    df['Foils'] = df['Nombre de dérives'].str.contains('foil')\n",
    "    return df"
   ]
  },
  {
   "cell_type": "markdown",
   "metadata": {},
   "source": [
    "#### Rapprochement des données des voiliers avec celle des classements."
   ]
  },
  {
   "cell_type": "code",
   "execution_count": 18,
   "metadata": {},
   "outputs": [],
   "source": [
    "def merge_ranks_bateau():\n",
    "    df_bateaux = pd.read_csv(\"./data/bateaux/bateaux_info.csv\")\n",
    "    df_ranks = pd.read_csv(\"all_rankings.csv\")\n",
    "    return df_ranks.merge(df_bateaux, on =\"Skipper\") "
   ]
  },
  {
   "cell_type": "markdown",
   "metadata": {},
   "source": [
    "#### Corrélation et régression linéaire entre le classement (rang) et la vitesse utile (VMG) des voiliers."
   ]
  },
  {
   "cell_type": "code",
   "execution_count": 15,
   "metadata": {},
   "outputs": [
    {
     "data": {
      "text/plain": [
       "-0.3733158504959646"
      ]
     },
     "execution_count": 15,
     "metadata": {},
     "output_type": "execute_result"
    }
   ],
   "source": [
    "df = pd.read_csv('all_rankings.csv')\n",
    "df =  df[~df.Rank.isin([\"RET\",\"NL\"])]\n",
    "x1 = df[\"Rank\"].apply(lambda x : int(x))\n",
    "x2 = df[\"VMG\"].apply(lambda x : float(x.split(' ')[0]))\n",
    "corr = np.corrcoef(x1,x2)[0][1]\n",
    "corr"
   ]
  },
  {
   "cell_type": "markdown",
   "metadata": {},
   "source": [
    "Le coefficient de corrélation est négatif donc si la VMG augmente alors le classement du skipper s'améliore"
   ]
  },
  {
   "cell_type": "code",
   "execution_count": 16,
   "metadata": {},
   "outputs": [
    {
     "name": "stdout",
     "output_type": "stream",
     "text": [
      "score 0.17047702013622312\n"
     ]
    },
    {
     "data": {
      "image/png": "[encoded data removed]",
      "text/plain": [
       "<Figure size 432x288 with 1 Axes>"
      ]
     },
     "metadata": {
      "needs_background": "light"
     },
     "output_type": "display_data"
    }
   ],
   "source": [
    "X_train, X_test, y_train, y_test = train_test_split(np.array(x2.values).reshape(len(x2.values),1), x1.values, test_size=0.1, random_state=42)\n",
    "reg = LinearRegression().fit(X_train, y_train)\n",
    "print(\"score\",reg.score(X_test, y_test))\n",
    "plt.scatter(X_test,reg.predict(X_test))\n",
    "plt.scatter(X_test, y_test)\n",
    "plt.xlabel(\"VMG\")\n",
    "plt.ylabel(\"Rank\");"
   ]
  },
  {
   "cell_type": "code",
   "execution_count": null,
   "metadata": {},
   "outputs": [],
   "source": [
    "#### Impact de la présence d'un foil sur le classement et la vitesse des voiliers."
   ]
  },
  {
   "cell_type": "code",
   "execution_count": 19,
   "metadata": {},
   "outputs": [
    {
     "data": {
      "image/png": "[encoded data removed]",
      "text/plain": [
       "<Figure size 432x288 with 1 Axes>"
      ]
     },
     "metadata": {
      "needs_background": "light"
     },
     "output_type": "display_data"
    }
   ],
   "source": [
    "df = merge_ranks_bateau()\n",
    "df['Foils'] = df['Nombre de dérives'].str.contains('foil')\n",
    "df =  df[~df.Rank.isin([\"RET\",\"NL\"])]\n",
    "df[\"Rank\"] = df[\"Rank\"].apply(lambda x : int(x))\n",
    "sns.boxplot(y = df[\"Rank\"], x = df[\"Foils\"]);"
   ]
  },
  {
   "cell_type": "code",
   "execution_count": null,
   "metadata": {},
   "outputs": [],
   "source": [
    "df[\"Vitesse (kts)\"] = df_classement[\"Vitesse (kts)\"].apply(lambda x : float(x.split(' ')[0]))\n",
    "\n",
    "sns.boxplot(y = df[\"Rank\"], x = df[\"Foils\"]);"
   ]
  }
 ],
 "metadata": {
  "kernelspec": {
   "display_name": "Python 3",
   "language": "python",
   "name": "python3"
  },
  "language_info": {
   "codemirror_mode": {
    "name": "ipython",
    "version": 3
   },
   "file_extension": ".py",
   "mimetype": "text/x-python",
   "name": "python",
   "nbconvert_exporter": "python",
   "pygments_lexer": "ipython3",
   "version": "3.8.3"
  }
 },
 "nbformat": 4,
 "nbformat_minor": 4
}
